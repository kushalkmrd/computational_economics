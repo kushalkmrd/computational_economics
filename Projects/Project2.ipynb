{
  "nbformat": 4,
  "nbformat_minor": 0,
  "metadata": {
    "colab": {
      "name": "Assignment1.ipynb",
      "provenance": [],
      "include_colab_link": true
    },
    "kernelspec": {
      "display_name": "Python 3",
      "language": "python",
      "name": "python3"
    },
    "language_info": {
      "codemirror_mode": {
        "name": "ipython",
        "version": 3
      },
      "file_extension": ".py",
      "mimetype": "text/x-python",
      "name": "python",
      "nbconvert_exporter": "python",
      "pygments_lexer": "ipython3",
      "version": "3.8.8"
    }
  },
  "cells": [
    {
      "cell_type": "markdown",
      "metadata": {
        "id": "view-in-github",
        "colab_type": "text"
      },
      "source": [
        "<a href=\"https://colab.research.google.com/github/kushalkrd/computational_economics/blob/main/Projects/Project2.ipynb\" target=\"_parent\"><img src=\"https://colab.research.google.com/assets/colab-badge.svg\" alt=\"Open In Colab\"/></a>"
      ]
    },
    {
      "cell_type": "markdown",
      "metadata": {
        "id": "vpAb01krek9U"
      },
      "source": [
        "# Project 2\n",
        "\n",
        "Project is to write a genetic algorithm that solves the optimal investment pattern in the health care experiment. Below are the details of the experiment and the parameters from the class"
      ]
    },
    {
      "cell_type": "markdown",
      "metadata": {
        "id": "BuXDrWfDglIp"
      },
      "source": [
        "### General Aspects\n",
        "- There will be 10 periods. Players begin with 70 health.\n",
        "- Each period, the player harvests some amount of money (this amount is detailed below)\n",
        "- After harvesting, the player's health degenerates (this amount is detailed below)\n",
        "- After health degeneration, the player must spend money on Health Investments and Life Investments. Money spent on Health Investments increases health, while money spent on Life Investments gives the player Life Enjoyment. Any money not spent carries over into the next period.\n",
        "- A player dies if their health ever goes below 0. If a player dies, they receive 0 Life Enjoyment for the remaining periods.\n",
        "- The goal is to maximize total Life Enjoyment across all periods.\n",
        " \n",
        "\n",
        "### Functions\n",
        " \n",
        "\n",
        "#### Harvesting:\n",
        "1. The player earns income by harvesting black dots in a region designated by M x N cells. In our parameters (M = N = 100)\n",
        "2. The player can select any set of contiguous W columns to harvest. In our parameters (W = 10)\n",
        "3. When fully healthy, there are T black dots dispersed across M x W cells each period. Each black dot is worth v. In our parameters T = 100 and v = 1\n",
        "4. The number of rows that can be harvested each period are given by: \n",
        "$$ HarvestRows(H) = M  (1 - \\gamma \\frac{100 - H}{100})$$\n",
        " where (𝛾=1)\n",
        "\n",
        "5. The number of rows are reduced by disabling the rows in the upper and lower regions of the selected columns.\n",
        "6. With these parameters, if health is 50 at the start of the period, the player has only 500 cells in which they can harvest black dots. With 80 health, they have 800 cells.\n",
        " \n",
        "\n",
        "#### Degeneration:\n",
        "Each period, the player loses (10 + CurrentPeriod) in health. i.e. 11 health the first period, 12 the second period, up to 20 in the last period.\n",
        "\n",
        "\n",
        "#### Health Regeneration:\n",
        "The equation for the amount of health regained given a certain Health Investment, I, and health after harvesting, H, is given by: \n",
        "\n",
        "$$ \\textrm{HealthRegained}(I,H)=100 \\left(\\frac{e^{k*I}}{e^{k*I} + \\frac{100 - H}{H}}\\right) - H $$\n",
        "\n",
        "\n",
        "where (k = 0.01021).  Health cannot exceed 100, and is always rounded down to the nearest integer.\n",
        "\n",
        "#### Life Enjoyment:\n",
        "The equation for the amount of Life Enjoyment given a certain Life Investment, L, is given by: \n",
        "\n",
        "$$ \\text{LifeEnjoyment}(L,\\text{CurrentHealth})=c\\left(\\frac{\\text{CurrentHealth}}{100}\\right) \\left(\\frac{L}{L + \\alpha}\\right) $$\n",
        "\n",
        "where (c = 464.53) and (𝛼=32)\n",
        "(\n",
        "α\n",
        "=\n",
        "32\n",
        ")\n",
        ".\n",
        "\n",
        "CurrentHealth is the health the player has during the investment phase **INCLUDING** the amount regained this period through investments in health.\n",
        "\n",
        " \n",
        "\n",
        "The first part of your grade will be based upon how well you can optimize this parameter set. On the due date, I will give a new set of parameters. You will have 1 hour to find the optimal investment pattern for this new set. Your algorithm's performance on this parameter set will determine the rest of your grade.\n",
        "\n",
        " \n",
        "\n",
        "We can change any of the following:\n",
        "\n",
        "- Harvesting grid size, selection width, dot density, and dot value.\n",
        "- Regeneration parameters\n",
        "- Life Enjoyment parameters\n",
        "- Number of Periods\n",
        "- Degeneration per period\n",
        "\n",
        "*Pretty much anything.*"
      ]
    },
    {
      "cell_type": "markdown",
      "metadata": {
        "id": "RAUT1LytojI-"
      },
      "source": [
        "# Solution"
      ]
    },
    {
      "cell_type": "markdown",
      "metadata": {
        "id": "07WLCk4hpTpR"
      },
      "source": [
        "## Class Parameters"
      ]
    },
    {
      "cell_type": "code",
      "metadata": {
        "id": "4AJ6dabdpbTa"
      },
      "source": [
        "class Params_healthcare:\n",
        "  periods = 10\n",
        "  init_health = 70\n",
        "  M = 100\n",
        "  N = 100\n",
        "  T = 100\n",
        "  W = 10\n",
        "  degen = 10 \n",
        "  health_max = 100 \n",
        "  health_min = 0\n",
        "  v = 1\n",
        "  gamma = 1 \n",
        "  k = 0.01021\n",
        "  alpha = 32\n",
        "  c = 464.53\n",
        "\n",
        "class Params_ga:\n",
        "  iterations = 100\n",
        "  size_population = 100\n",
        "  ratio_children = 0.05\n",
        "  chance_mutate = 0.02\n",
        "\n",
        "class Agent:\n",
        "    \"\"\"An Agent Class representing Each Agent\"\"\"\n",
        "    def __init__(self, share_I, share_L, share_money, health, enjoyment, money):\n",
        "        self.share_I = share_I\n",
        "        self.share_L = share_L\n",
        "        self.share_money = share_money\n",
        "        self.health = health\n",
        "        self.enjoyment = enjoyment\n",
        "        self.money = money\n",
        "    def update_self(self):\n",
        "      for i in np.arange(1,len(self.share_I)):\n",
        "        self.health[i]=self.health[i-1]+val_regenerate(params_healthcare,self.money[i-1]*self.share_I[i-1],self.health[i-1]) - val_degenerate(params_healthcare,i)\n",
        "        self.enjoyment[i]= self.enjoyment[i-1]+life_enjoyment(params_healthcare,self.money[i-1]*self.share_L[i-1],self.health[i-1])\n",
        "        self.money[i]=self.share_money[i-1]*self.money[i-1]+harvest(params_healthcare,self.health[i-1])\n",
        "  "
      ],
      "execution_count": 218,
      "outputs": []
    },
    {
      "cell_type": "markdown",
      "metadata": {
        "id": "BIDN-68Go_iD"
      },
      "source": [
        "## Functions "
      ]
    },
    {
      "cell_type": "code",
      "metadata": {
        "id": "KJWAOyElgNU8"
      },
      "source": [
        "import numpy as np \n",
        "import math\n",
        "params_healthcare = Params_healthcare\n",
        "params_ga = Params_ga\n",
        "\n",
        "def harvest(params_healthcare,health):\n",
        "  return params_healthcare.T * params_healthcare.v *(1 - (params_healthcare.gamma * ((100 - health) / 100)))\n",
        "\n",
        "def val_regenerate(params_healthcare,I,health):\n",
        "  ki_exp=np.exp(params_healthcare.k*np.round(I,2))\n",
        "  value= np.floor(params_healthcare.health_max * ( ki_exp/(ki_exp+((params_healthcare.health_max-health)/health))) - health)\n",
        "  if value < 0:\n",
        "    value = 0 \n",
        "  print(value)\n",
        "  return value if value <params_healthcare.health_max else params_healthcare.health_max\n",
        "\n",
        "def val_degenerate(params_healthcare,period):\n",
        "  return params_healthcare.degen+period\n",
        "\n",
        "def life_enjoyment(params_healthcare,L,health):\n",
        "        return (L / (L + params_healthcare.alpha)) * params_healthcare.c * health / 100 \n"
      ],
      "execution_count": null,
      "outputs": []
    },
    {
      "cell_type": "code",
      "metadata": {
        "id": "GcU4pa6VJWSq"
      },
      "source": [
        "def generate_population(params_healthcare, params_ga):\n",
        "  population=[]\n",
        "  for i in np.arange(params_ga.size_population):\n",
        "    a_health=[params_healthcare.init_health]\n",
        "    a_enjoyment = [0]\n",
        "    a_money = [harvest(params_healthcare,params_healthcare.init_health)]\n",
        "    a_share_I = [0]\n",
        "    a_share_L = [0]\n",
        "    a_share_M = [0]\n",
        "    for period in np.arange(params_healthcare.periods-1):\n",
        "      if a_health[period]<=params_healthcare.health_min:\n",
        "        a_share_I.append(0);\n",
        "        a_share_L.append(0);\n",
        "        a_share_M.append(0);\n",
        "        a_health.append(a_health[period]);\n",
        "        a_enjoyment.append(a_enjoyment[period]);\n",
        "        a_money.append(a_money[period]);\n",
        "      else:\n",
        "        share_I=np.round(np.random.rand(),2);\n",
        "        if share_I>=1:\n",
        "          share_L=np.random.randint(0,100*(1.01-share_I))/100;\n",
        "        else:\n",
        "          share_L=np.random.randint(0,100*(1-share_I))/100;\n",
        "        share_M=np.round(1-share_I-share_L,2);\n",
        "        a_share_I.append(share_I);\n",
        "        a_share_L.append(share_L);\n",
        "        a_share_M.append(share_M);\n",
        "        a_enjoyment.append(a_enjoyment[period]+life_enjoyment(params_healthcare,a_money[period]*share_L,a_health[period])) ;\n",
        "        period_health = a_health[period] + val_regenerate(params_healthcare,a_money[period]*share_I,a_health[period]) - val_degenerate(params_healthcare,period)\n",
        "        health = period_health if period_health > params_healthcare.health_min else 0 ;\n",
        "        a_health.append(health);\n",
        "        a_money.append(a_share_M[period]*a_money[period]+harvest(params_healthcare,health));\n",
        "    population.append(Agent(a_share_I,a_share_L,a_share_M,a_health,a_enjoyment,a_money));\n",
        "  return population\n",
        "def show_population(agents_list):\n",
        "   return [(agents.share_I,agents.share_L,agents.share_money,agents.health,agents.enjoyment,agents.money) for agents in agents_list ]\n",
        "\n"
      ],
      "execution_count": 219,
      "outputs": []
    },
    {
      "cell_type": "code",
      "metadata": {
        "id": "zIAgrDMt8bRD"
      },
      "source": [
        "def mutation(agent, probab_mutate):\n",
        "    if random.random() < probab_mutate:\n",
        "        add_value = np.random.rand()*0.2\n",
        "        for i in np.arange(len(agent.share_I)):\n",
        "            agent.share_I[i] = agent.share_I[i] + add_value if agent.share_I[i] + add_value <= 1 else 1\n",
        "            agent.share_L[i] = agent.share_L[i] - add_value if agent.share_L[i] + add_value > 0 else 0\n",
        "            agent.share_money[i] = 1- agent.share_L[i]-agent.share_I[i]\n",
        "    #agent.update_self()\n",
        "    return agent \n",
        "\n",
        "def fitness(agent):      \n",
        "    return agent.enjoyment[-1]\n",
        "\n",
        "#Generate N solutions \n",
        "\n",
        "#crossover \n",
        "\n",
        "def crossover(p1,p2):\n",
        "  random_ind=random.choice(range(len(p1.share_I)))\n",
        "  c1=p1\n",
        "  c2=p2\n",
        "  c1.share_I= p1.share_I[:random_ind]+p2.share_I[random_ind:]\n",
        "  c2.share_I= p2.share_I[:random_ind]+p1.share_I[random_ind:]\n",
        "  c1.share_L= p1.share_L[:random_ind]+p2.share_L[random_ind:]\n",
        "  c2.share_L= p2.share_L[:random_ind]+p1.share_L[random_ind:]\n",
        "  c1.share_money= p1.share_money[:random_ind]+p2.share_money[random_ind:]\n",
        "  c2.share_money= p2.share_money[:random_ind]+p1.share_money[random_ind:]\n",
        "\n",
        "  return [c1,c2]\n",
        "\n",
        "#return the selected parents \n",
        "def roullette_selection(population, num_parents=2):\n",
        "  selected= random.sample(population,k=num_parents)\n",
        "  crossed=crossover(selected[0],selected[1])\n",
        "  mutated= [ mutation(x,0.02) for x in crossed]\n",
        "\n",
        "  return mutated\n",
        "\n",
        "\n",
        "def choose_m_children(population,m):\n",
        "  children= [roullette_selection(population,2)[0] for x in range(m)]\n",
        "\n",
        "  return children\n",
        "\n",
        "\n",
        "def winner(s1,s2):\n",
        "  val_s1= fitness(s1)\n",
        "  val_s2= fitness(s2)\n",
        "  return s1 if val_s1 > val_s2 else s2\n",
        "\n",
        "def tournament_survival(population,N):\n",
        "  new_pop=[]\n",
        "  for i in range(N):\n",
        "    s=random.sample(population,k=2)\n",
        "    new_pop.append(winner(s[0],s[1]))\n",
        "  return new_pop"
      ],
      "execution_count": 224,
      "outputs": []
    },
    {
      "cell_type": "code",
      "metadata": {
        "colab": {
          "base_uri": "https://localhost:8080/"
        },
        "id": "0qAbOg-S2GRN",
        "outputId": "56bed82d-fdac-40a8-d094-6898c6bfb184"
      },
      "source": [
        "import matplotlib.pyplot as plt\n",
        "generations=10000\n",
        "all_generations=[]\n",
        "fitness_all=[]\n",
        "#population=generate_population(params_healthcare, params_ga);\n",
        "\n",
        "for i in range(generations):\n",
        "  if i ==0: \n",
        "    new_gen=population;\n",
        "  all_pop=new_gen+choose_m_children(new_gen,children);\n",
        "  new_gen=tournament_survival(all_pop,population_size);\n",
        "  fitness_all.append([fitness(x) for x in new_gen])\n",
        "  all_generations.append(new_gen)\n",
        "\n",
        "print(\"Fitness of final generation's first member is:\")\n",
        "print(fitness(all_generations[-1][0]))\n"
      ],
      "execution_count": 246,
      "outputs": [
        {
          "output_type": "stream",
          "name": "stdout",
          "text": [
            "Fitness of final generation's first member is:\n",
            "645.0206496173599\n"
          ]
        }
      ]
    },
    {
      "cell_type": "code",
      "metadata": {
        "id": "AI4q60SpBRpc"
      },
      "source": [
        ""
      ],
      "execution_count": 246,
      "outputs": []
    },
    {
      "cell_type": "code",
      "metadata": {
        "id": "6xga26742gFp"
      },
      "source": [
        "\n",
        "'''fitness_all_mean = [np.mean(fitness.dropna()) for fitness in fitness_all]\n",
        "fitness_all_max = [np.max(fitness.dropna()) for fitness in fitness_all]\n",
        "fitness_all_min = [np.median(fitness.dropna()) for fitness in fitness_all]\n",
        "\n",
        "plt.figure(figsize=(20,10))\n",
        "plt.grid()\n",
        "plt.plot(list(range(generations)), fitness_all_mean, label = 'Mean Fitness')\n",
        "plt.plot(list(range(generations)), fitness_all_max, label = 'Max Fitness')\n",
        "plt.plot(list(range(generations)), fitness_all_min, label = 'Median Fitness')\n",
        "\n",
        "plt.title('Plot of Fitness vs Generations',fontsize=20)\n",
        "plt.legend()\n",
        "\n",
        "plt.xlabel('Generations', fontsize=15)\n",
        "plt.ylabel('Fitness', fontsize=15)\n",
        "plt.savefig('fitness_generations.png')\n",
        "plt.show()\n",
        "'''"
      ],
      "execution_count": 246,
      "outputs": []
    }
  ]
}