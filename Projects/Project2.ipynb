{
  "nbformat": 4,
  "nbformat_minor": 0,
  "metadata": {
    "colab": {
      "name": "Assignment1.ipynb",
      "provenance": [],
      "include_colab_link": true
    },
    "kernelspec": {
      "display_name": "Python 3",
      "language": "python",
      "name": "python3"
    },
    "language_info": {
      "codemirror_mode": {
        "name": "ipython",
        "version": 3
      },
      "file_extension": ".py",
      "mimetype": "text/x-python",
      "name": "python",
      "nbconvert_exporter": "python",
      "pygments_lexer": "ipython3",
      "version": "3.8.8"
    }
  },
  "cells": [
    {
      "cell_type": "markdown",
      "metadata": {
        "id": "view-in-github",
        "colab_type": "text"
      },
      "source": [
        "<a href=\"https://colab.research.google.com/github/kushalkrd/computational_economics/blob/main/Projects/Project2.ipynb\" target=\"_parent\"><img src=\"https://colab.research.google.com/assets/colab-badge.svg\" alt=\"Open In Colab\"/></a>"
      ]
    },
    {
      "cell_type": "markdown",
      "metadata": {
        "id": "vpAb01krek9U"
      },
      "source": [
        "# Project 2\n",
        "\n",
        "Project is to write a genetic algorithm that solves the optimal investment pattern in the health care experiment. Below are the details of the experiment and the parameters from the class"
      ]
    },
    {
      "cell_type": "markdown",
      "metadata": {
        "id": "BuXDrWfDglIp"
      },
      "source": [
        "### General Aspects\n",
        "- There will be 10 periods. Players begin with 70 health.\n",
        "- Each period, the player harvests some amount of money (this amount is detailed below)\n",
        "- After harvesting, the player's health degenerates (this amount is detailed below)\n",
        "- After health degeneration, the player must spend money on Health Investments and Life Investments. Money spent on Health Investments increases health, while money spent on Life Investments gives the player Life Enjoyment. Any money not spent carries over into the next period.\n",
        "- A player dies if their health ever goes below 0. If a player dies, they receive 0 Life Enjoyment for the remaining periods.\n",
        "- The goal is to maximize total Life Enjoyment across all periods.\n",
        " \n",
        "\n",
        "### Functions\n",
        " \n",
        "\n",
        "#### Harvesting:\n",
        "1. The player earns income by harvesting black dots in a region designated by M x N cells. In our parameters (M = N = 100)\n",
        "2. The player can select any set of contiguous W columns to harvest. In our parameters (W = 10)\n",
        "3. When fully healthy, there are T black dots dispersed across M x W cells each period. Each black dot is worth v. In our parameters T = 100 and v = 1\n",
        "4. The number of rows that can be harvested each period are given by: \n",
        "$$ HarvestRows(H) = M  (1 - \\gamma \\frac{100 - H}{100})$$\n",
        " where (𝛾=1)\n",
        "\n",
        "5. The number of rows are reduced by disabling the rows in the upper and lower regions of the selected columns.\n",
        "6. With these parameters, if health is 50 at the start of the period, the player has only 500 cells in which they can harvest black dots. With 80 health, they have 800 cells.\n",
        " \n",
        "\n",
        "#### Degeneration:\n",
        "Each period, the player loses (10 + CurrentPeriod) in health. i.e. 11 health the first period, 12 the second period, up to 20 in the last period.\n",
        "\n",
        "\n",
        "#### Health Regeneration:\n",
        "The equation for the amount of health regained given a certain Health Investment, I, and health after harvesting, H, is given by: \n",
        "\n",
        "$$ \\textrm{HealthRegained}(I,H)=100 \\left(\\frac{e^{k*I}}{e^{k*I} + \\frac{100 - H}{H}}\\right) - H $$\n",
        "\n",
        "\n",
        "where (k = 0.01021).  Health cannot exceed 100, and is always rounded down to the nearest integer.\n",
        "\n",
        "#### Life Enjoyment:\n",
        "The equation for the amount of Life Enjoyment given a certain Life Investment, L, is given by: \n",
        "\n",
        "$$ \\text{LifeEnjoyment}(L,\\text{CurrentHealth})=c\\left(\\frac{\\text{CurrentHealth}}{100}\\right) \\left(\\frac{L}{L + \\alpha}\\right) $$\n",
        "\n",
        "where (c = 464.53) and (𝛼=32)\n",
        "(\n",
        "α\n",
        "=\n",
        "32\n",
        ")\n",
        ".\n",
        "\n",
        "CurrentHealth is the health the player has during the investment phase **INCLUDING** the amount regained this period through investments in health.\n",
        "\n",
        " \n",
        "\n",
        "The first part of your grade will be based upon how well you can optimize this parameter set. On the due date, I will give a new set of parameters. You will have 1 hour to find the optimal investment pattern for this new set. Your algorithm's performance on this parameter set will determine the rest of your grade.\n",
        "\n",
        " \n",
        "\n",
        "We can change any of the following:\n",
        "\n",
        "- Harvesting grid size, selection width, dot density, and dot value.\n",
        "- Regeneration parameters\n",
        "- Life Enjoyment parameters\n",
        "- Number of Periods\n",
        "- Degeneration per period\n",
        "\n",
        "*Pretty much anything.*"
      ]
    },
    {
      "cell_type": "markdown",
      "metadata": {
        "id": "RAUT1LytojI-"
      },
      "source": [
        "# Solution"
      ]
    },
    {
      "cell_type": "markdown",
      "metadata": {
        "id": "07WLCk4hpTpR"
      },
      "source": [
        "## Class Parameters"
      ]
    },
    {
      "cell_type": "code",
      "metadata": {
        "id": "4AJ6dabdpbTa"
      },
      "source": [
        "class Params_healthcare:\n",
        "  periods = 10\n",
        "  init_health = 70\n",
        "  M = 100\n",
        "  N = 100\n",
        "  T = 100\n",
        "  W = 10\n",
        "  degen = 10 \n",
        "  health_max = 100 \n",
        "  health_min = 0\n",
        "  v = 1\n",
        "  gamma = 1 \n",
        "  k = 0.01021\n",
        "  alpha = 32\n",
        "  c = 464.53\n",
        "\n",
        "class Params_ga:\n",
        "  iterations = 100\n",
        "  size_population = 100\n",
        "  ratio_children = 0.05\n",
        "  chance_mutate = 0.02\n",
        "\n",
        "class Agent:\n",
        "    \"\"\"An Agent Class representing Each Agent\"\"\"\n",
        "    def __init__(self, share_I, share_L, share_money, health, enjoyment, money):\n",
        "        self.share_I = share_I\n",
        "        self.share_L = share_L\n",
        "        self.share_money = share_money\n",
        "        self.health = health\n",
        "        self.enjoyment = enjoyment\n",
        "        self.money = money\n",
        "  "
      ],
      "execution_count": 2,
      "outputs": []
    },
    {
      "cell_type": "markdown",
      "metadata": {
        "id": "BIDN-68Go_iD"
      },
      "source": [
        "## Functions "
      ]
    },
    {
      "cell_type": "code",
      "metadata": {
        "id": "KJWAOyElgNU8"
      },
      "source": [
        "import numpy as np \n",
        "params_healthcare = Params_healthcare\n",
        "params_ga = Params_ga\n",
        "\n",
        "def harvest(params_healthcare,health):\n",
        "  return params_healthcare.T * params_healthcare.v *(1 - (params_healthcare.gamma * ((100 - health) / 100)))\n",
        "\n",
        "def val_regenerate(params_healthcare,I,health):\n",
        "  ki_exp=np.exp(params_healthcare.k*I)\n",
        "  value= np.floor(params_healthcare.health_max * ( ki_exp/(ki_exp+((params_healthcare.health_max-health)/health))) - health)\n",
        "  if value < 0:\n",
        "    value = 0 \n",
        "  print(value)\n",
        "  return value if value <params_healthcare.health_max else params_healthcare.health_max\n",
        "\n",
        "def val_degenerate(params_healthcare,period):\n",
        "  return params_healthcare.degen+period\n",
        "\n",
        "def life_enjoyment(params_healthcare,L,health):\n",
        "        return (L / (L + params_healthcare.alpha)) * params_healthcare.c * health / 100 \n"
      ],
      "execution_count": 5,
      "outputs": []
    },
    {
      "cell_type": "code",
      "metadata": {
        "id": "Duvjz8OTJSuJ"
      },
      "source": [
        "def update_values(self):\n",
        "    for i in range(len(health)-1):\n",
        "        curr_period = i + 1\n",
        "        self.health[curr_period] = self.health[i] - degenerate(curr_period) + regenerate(I_prop * self.money[i], self.health[i])\n",
        "        self.enjoyment = self.enjoyment[i] + enjoyment(self.L_props[curr_period] * self.money[i], self.health[i])\n",
        "        self.money = (money_list[i] * money_prop) + harvest(curr_period)"
      ],
      "execution_count": 1,
      "outputs": []
    },
    {
      "cell_type": "code",
      "metadata": {
        "id": "GcU4pa6VJWSq"
      },
      "source": [
        "def generate_population(params_healthcare, params_ga)"
      ],
      "execution_count": null,
      "outputs": []
    },
    {
      "cell_type": "code",
      "metadata": {
        "id": "brvEnRTIgNU8",
        "outputId": "84f231d6-9ff3-467b-9117-d59708fcc021",
        "colab": {
          "base_uri": "https://localhost:8080/"
        }
      },
      "source": [
        "a=np.random.randint(1,10,5)\n",
        "b=np.random.randint(1,10,5)\n",
        "print(a)\n",
        "print(a*2)\n",
        "print(b)\n",
        "print(a*b)\n"
      ],
      "execution_count": 17,
      "outputs": [
        {
          "output_type": "stream",
          "name": "stdout",
          "text": [
            "[3 3 8 8 2]\n",
            "[ 6  6 16 16  4]\n",
            "[6 6 1 1 1]\n",
            "[18 18  8  8  2]\n"
          ]
        }
      ]
    },
    {
      "cell_type": "code",
      "metadata": {
        "id": "4jdih7PlpY-Z",
        "outputId": "2b0d6897-8a0e-4972-9de4-86f801140dda",
        "colab": {
          "base_uri": "https://localhost:8080/"
        }
      },
      "source": [
        "harvest(M,N,T,W,v,gamma,a)"
      ],
      "execution_count": 20,
      "outputs": [
        {
          "output_type": "execute_result",
          "data": {
            "text/plain": [
              "array([3., 3., 8., 8., 2.])"
            ]
          },
          "metadata": {},
          "execution_count": 20
        }
      ]
    },
    {
      "cell_type": "code",
      "metadata": {
        "id": "aBd2OD166Wjv",
        "outputId": "1aed27f2-8e19-40be-8e7e-cfec96be8377",
        "colab": {
          "base_uri": "https://localhost:8080/"
        }
      },
      "source": [
        "val_regenerate(k,19,-99,health_max)"
      ],
      "execution_count": 41,
      "outputs": [
        {
          "output_type": "stream",
          "name": "stdout",
          "text": [
            "0\n"
          ]
        },
        {
          "output_type": "execute_result",
          "data": {
            "text/plain": [
              "0"
            ]
          },
          "metadata": {},
          "execution_count": 41
        }
      ]
    },
    {
      "cell_type": "code",
      "metadata": {
        "id": "zIAgrDMt8bRD"
      },
      "source": [
        ""
      ],
      "execution_count": null,
      "outputs": []
    }
  ]
}