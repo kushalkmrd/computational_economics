{
  "nbformat": 4,
  "nbformat_minor": 0,
  "metadata": {
    "colab": {
      "name": "Assignment1.ipynb",
      "provenance": [],
      "toc_visible": true,
      "include_colab_link": true
    },
    "kernelspec": {
      "display_name": "Python 3",
      "language": "python",
      "name": "python3"
    },
    "language_info": {
      "codemirror_mode": {
        "name": "ipython",
        "version": 3
      },
      "file_extension": ".py",
      "mimetype": "text/x-python",
      "name": "python",
      "nbconvert_exporter": "python",
      "pygments_lexer": "ipython3",
      "version": "3.8.8"
    }
  },
  "cells": [
    {
      "cell_type": "markdown",
      "metadata": {
        "id": "view-in-github",
        "colab_type": "text"
      },
      "source": [
        "<a href=\"https://colab.research.google.com/github/kushalkrd/computational_economics/blob/main/Projects/Project2.ipynb\" target=\"_parent\"><img src=\"https://colab.research.google.com/assets/colab-badge.svg\" alt=\"Open In Colab\"/></a>"
      ]
    },
    {
      "cell_type": "markdown",
      "metadata": {
        "id": "vpAb01krek9U"
      },
      "source": [
        "# Project 2\n",
        "\n",
        "Project is to write a genetic algorithm that solves the optimal investment pattern in the health care experiment. Below are the details of the experiment and the parameters from the class"
      ]
    },
    {
      "cell_type": "markdown",
      "metadata": {
        "id": "BuXDrWfDglIp"
      },
      "source": [
        "### General Aspects\n",
        "- There will be 10 periods. Players begin with 70 health.\n",
        "- Each period, the player harvests some amount of money (this amount is detailed below)\n",
        "- After harvesting, the player's health degenerates (this amount is detailed below)\n",
        "- After health degeneration, the player must spend money on Health Investments and Life Investments. Money spent on Health Investments increases health, while money spent on Life Investments gives the player Life Enjoyment. Any money not spent carries over into the next period.\n",
        "- A player dies if their health ever goes below 0. If a player dies, they receive 0 Life Enjoyment for the remaining periods.\n",
        "- The goal is to maximize total Life Enjoyment across all periods.\n",
        " \n",
        "\n",
        "### Functions\n",
        " \n",
        "\n",
        "#### Harvesting:\n",
        "1. The player earns income by harvesting black dots in a region designated by M x N cells. In our parameters (M = N = 100)\n",
        "2. The player can select any set of contiguous W columns to harvest. In our parameters (W = 10)\n",
        "3. When fully healthy, there are T black dots dispersed across M x W cells each period. Each black dot is worth v. In our parameters T = 100 and v = 1\n",
        "4. The number of rows that can be harvested each period are given by: \n",
        "HarvestRows(H) = M $ (1 - \\gamma \\frac{100 - H}{100})$\n",
        " where (𝛾=1)\n",
        "\n",
        "5. The number of rows are reduced by disabling the rows in the upper and lower regions of the selected columns.\n",
        "6. With these parameters, if health is 50 at the start of the period, the player has only 500 cells in which they can harvest black dots. With 80 health, they have 800 cells.\n",
        " \n",
        "\n",
        "#### Degeneration:\n",
        "Each period, the player loses (10 + CurrentPeriod) in health. i.e. 11 health the first period, 12 the second period, up to 20 in the last period.\n",
        "\n",
        "\n",
        "#### Health Regeneration:\n",
        "The equation for the amount of health regained given a certain Health Investment, I, and health after harvesting, H, is given by: \n",
        "\n",
        "$\\textrm{HealthRegained}(I,H)=100 \\left(\\frac{e^{k*I}}{e^{k*I} + \\frac{100 - H}{H}}\\right) - H$ −𝐻\n",
        "\n",
        "\n",
        "where (k = 0.01021).  Health cannot exceed 100, and is always rounded down to the nearest integer.\n",
        "\n",
        "#### Life Enjoyment:\n",
        "The equation for the amount of Life Enjoyment given a certain Life Investment, L, is given by: \n",
        "\n",
        "$\\text{LifeEnjoyment}(L,\\text{CurrentHealth})=c\\left(\\frac{\\text{CurrentHealth}}{100}\\right) \\left(\\frac{L}{L + \\alpha}\\right)$\n",
        "\n",
        "where (c = 464.53) and (𝛼=32)\n",
        "(\n",
        "α\n",
        "=\n",
        "32\n",
        ")\n",
        ".\n",
        "\n",
        "CurrentHealth is the health the player has during the investment phase **INCLUDING** the amount regained this period through investments in health.\n",
        "\n",
        " \n",
        "\n",
        "The first part of your grade will be based upon how well you can optimize this parameter set. On the due date, I will give a new set of parameters. You will have 1 hour to find the optimal investment pattern for this new set. Your algorithm's performance on this parameter set will determine the rest of your grade.\n",
        "\n",
        " \n",
        "\n",
        "We can change any of the following:\n",
        "\n",
        "- Harvesting grid size, selection width, dot density, and dot value.\n",
        "- Regeneration parameters\n",
        "- Life Enjoyment parameters\n",
        "- Number of Periods\n",
        "- Degeneration per period\n",
        "\n",
        "*Pretty much anything.*"
      ]
    },
    {
      "cell_type": "markdown",
      "metadata": {
        "id": "RAUT1LytojI-"
      },
      "source": [
        "# Solution"
      ]
    },
    {
      "cell_type": "markdown",
      "metadata": {
        "id": "07WLCk4hpTpR"
      },
      "source": [
        "## Class Parameters"
      ]
    },
    {
      "cell_type": "code",
      "metadata": {
        "id": "4AJ6dabdpbTa"
      },
      "source": [
        ""
      ],
      "execution_count": null,
      "outputs": []
    },
    {
      "cell_type": "markdown",
      "metadata": {
        "id": "BIDN-68Go_iD"
      },
      "source": [
        "## Functions "
      ]
    },
    {
      "cell_type": "code",
      "metadata": {
        "id": "KJWAOyElgNU8"
      },
      "source": [
        ""
      ],
      "execution_count": null,
      "outputs": []
    },
    {
      "cell_type": "code",
      "metadata": {
        "id": "brvEnRTIgNU8"
      },
      "source": [
        ""
      ],
      "execution_count": null,
      "outputs": []
    },
    {
      "cell_type": "code",
      "metadata": {
        "id": "4jdih7PlpY-Z"
      },
      "source": [
        ""
      ],
      "execution_count": null,
      "outputs": []
    }
  ]
}