{
  "nbformat": 4,
  "nbformat_minor": 0,
  "metadata": {
    "colab": {
      "name": "Assignment1.ipynb",
      "provenance": [],
      "include_colab_link": true
    },
    "kernelspec": {
      "display_name": "Python 3",
      "language": "python",
      "name": "python3"
    },
    "language_info": {
      "codemirror_mode": {
        "name": "ipython",
        "version": 3
      },
      "file_extension": ".py",
      "mimetype": "text/x-python",
      "name": "python",
      "nbconvert_exporter": "python",
      "pygments_lexer": "ipython3",
      "version": "3.8.8"
    }
  },
  "cells": [
    {
      "cell_type": "markdown",
      "metadata": {
        "id": "view-in-github",
        "colab_type": "text"
      },
      "source": [
        "<a href=\"https://colab.research.google.com/github/kushalkrd/computational_economics/blob/main/Projects/Project2.ipynb\" target=\"_parent\"><img src=\"https://colab.research.google.com/assets/colab-badge.svg\" alt=\"Open In Colab\"/></a>"
      ]
    },
    {
      "cell_type": "markdown",
      "metadata": {
        "id": "vpAb01krek9U"
      },
      "source": [
        "# Project 2\n",
        "\n",
        "Project is to write a genetic algorithm that solves the optimal investment pattern in the health care experiment. Below are the details of the experiment and the parameters from the class"
      ]
    },
    {
      "cell_type": "markdown",
      "metadata": {
        "id": "BuXDrWfDglIp"
      },
      "source": [
        "### General Aspects\n",
        "- There will be 10 periods. Players begin with 70 health.\n",
        "- Each period, the player harvests some amount of money (this amount is detailed below)\n",
        "- After harvesting, the player's health degenerates (this amount is detailed below)\n",
        "- After health degeneration, the player must spend money on Health Investments and Life Investments. Money spent on Health Investments increases health, while money spent on Life Investments gives the player Life Enjoyment. Any money not spent carries over into the next period.\n",
        "- A player dies if their health ever goes below 0. If a player dies, they receive 0 Life Enjoyment for the remaining periods.\n",
        "- The goal is to maximize total Life Enjoyment across all periods.\n",
        " \n",
        "\n",
        "#### Functions\n",
        " \n",
        "\n",
        "Harvesting:\n",
        "1. The player earns income by harvesting black dots in a region designated by M x N cells. In our parameters (M = N = 100)\n",
        "2. The player can select any set of contiguous W columns to harvest. In our parameters (W = 10)\n",
        "3. When fully healthy, there are T black dots dispersed across M x W cells each period. Each black dot is worth v. In our parameters T = 100 and v = 1\n",
        "The number of rows that can be harvested each period are given by: \n",
        "HarvestRows(H) = M $ (1 - \\gamma \\frac{100 - H}{100})$\n",
        " where (𝛾=1)\n",
        "(\n",
        "γ\n",
        "=\n",
        "1\n",
        ")\n",
        "4. The number of rows are reduced by disabling the rows in the upper and lower regions of the selected columns.\n",
        "5. With these parameters, if health is 50 at the start of the period, the player has only 500 cells in which they can harvest black dots. With 80 health, they have 800 cells.\n",
        " \n",
        "\n",
        "Degeneration:\n",
        "Each period, the player loses (10 + CurrentPeriod) in health. i.e. 11 health the first period, 12 the second period, up to 20 in the last period.\n",
        "\n",
        " \n",
        "\n",
        "Health Regeneration:\n",
        "The equation for the amount of health regained given a certain Health Investment, I, and health after harvesting, H, is given by: \n",
        "\n",
        "HealthRegained(𝐼,𝐻)=100(𝑒𝑘∗𝐼𝑒𝑘∗𝐼+100−𝐻𝐻)−𝐻\n",
        "HealthRegained\n",
        "(\n",
        "I\n",
        ",\n",
        "H\n",
        ")\n",
        "=\n",
        "100\n",
        "(\n",
        "e\n",
        "k\n",
        "∗\n",
        "I\n",
        "e\n",
        "k\n",
        "∗\n",
        "I\n",
        "+\n",
        "100\n",
        "−\n",
        "H\n",
        "H\n",
        ")\n",
        "−\n",
        "H\n",
        "\n",
        "where (k = 0.01021).  Health cannot exceed 100, and is always rounded down to the nearest integer.\n",
        "\n",
        " \n",
        "\n",
        "Life Enjoyment:\n",
        "The equation for the amount of Life Enjoyment given a certain Life Investment, L, is given by: \n",
        "\n",
        "LifeEnjoyment(𝐿,CurrentHealth)=𝑐(CurrentHealth100)(𝐿𝐿+𝛼)\n",
        "LifeEnjoyment\n",
        "(\n",
        "L\n",
        ",\n",
        "CurrentHealth\n",
        ")\n",
        "=\n",
        "c\n",
        "(\n",
        "CurrentHealth\n",
        "100\n",
        ")\n",
        "(\n",
        "L\n",
        "L\n",
        "+\n",
        "α\n",
        ")\n",
        "\n",
        "where (c = 464.53) and (𝛼=32)\n",
        "(\n",
        "α\n",
        "=\n",
        "32\n",
        ")\n",
        ".\n",
        "\n",
        "CurrentHealth is the health the player has during the investment phase INCLUDING the amount regained this period through investments in health.\n",
        "\n",
        " \n",
        "\n",
        "The first part of your grade will be based upon how well you can optimize this parameter set. On the due date, I will give a new set of parameters. You will have 1 hour to find the optimal investment pattern for this new set. Your algorithm's performance on this parameter set will determine the rest of your grade.\n",
        "\n",
        " \n",
        "\n",
        "I can change any of the following:\n",
        "\n",
        "Harvesting grid size, selection width, dot density, and dot value.\n",
        "Regeneration parameters\n",
        "Life Enjoyment parameters\n",
        "Number of Periods\n",
        "Degeneration per period\n",
        "Pretty much anything."
      ]
    },
    {
      "cell_type": "markdown",
      "metadata": {
        "id": "KM6ZwAa7ek9W"
      },
      "source": [
        "## Problem 1\n",
        "\n",
        "My wife is planning a halloween party and she wants to buy these black glasses from the dollar store.  The problem is that they only sell them in cases of 24 and they come in black, purple and orange colors.  Let's assume that each color is equally likely.  What is the probability that there will be at least 24 black glasses if she buys 3 cases? \n",
        "\n",
        "Please write a python script below to solve this problem.\n",
        "\n",
        "[Skeleton hand glasses](https://www.dollartree.com/ccstore/v1/images/?source=/file/v6002164978458795022/products/256623.jpg)"
      ]
    },
    {
      "cell_type": "code",
      "metadata": {
        "id": "ITN6smTkgNU1",
        "outputId": "d43bbb99-3573-45c9-8277-d624eba322f1"
      },
      "source": [
        "### Assignment 1 Question 1 Solution\n",
        "import itertools\n",
        "\n",
        "#list with the colors\n",
        "all_colors=['b','p','o']\n",
        "\n",
        "#Initiating an iteration with the combinations that are possible for b + p + o = 72 \n",
        "#It is similar to assuming that there are 72 glasses and they need to be of the three colors \n",
        "#(case is irrelevant as each glass is equally likely)\n",
        "\n",
        "#itertools has inbuilt combination function that allows replacement and gives all the possible 72 colors from the input 3\n",
        "x_all=itertools.combinations_with_replacement(all_colors, 72)\n",
        "\n",
        "#combinations of color of interest with condition\n",
        "occurence=0\n",
        "\n",
        "#overall combinations counter\n",
        "overall=0\n",
        "\n",
        "#looping in our combinations obtained\n",
        "for x in x_all:\n",
        "    #counting the number of black glasses\n",
        "    p_count=x.count('b')\n",
        "    \n",
        "    #inreasing counter as we have a combination\n",
        "    overall+=1\n",
        "    \n",
        "    #increasing counter as the ball is black\n",
        "    if p_count>23:\n",
        "        occurence+=1\n",
        "        \n",
        "#printing output\n",
        "print(f'The black glass appears greater than 23 (at least 24) times in cases, p: {occurence}')\n",
        "print(f'The total combinations of colors possible for the 72 glasses, N: {overall}')\n",
        "print(f'Hence the probability, p/N: {occurence/overall}')\n",
        "\n"
      ],
      "execution_count": null,
      "outputs": [
        {
          "name": "stdout",
          "output_type": "stream",
          "text": [
            "CPU times: user 1e+03 ns, sys: 0 ns, total: 1e+03 ns\n",
            "Wall time: 3.1 µs\n",
            "The black glass appears greater than 23 (at least 24) times in cases, p: 1225\n",
            "The total combinations of colors possible for the 72 glasses, N: 2701\n",
            "Hence the probability, p/N: 0.45353572750833027\n"
          ]
        }
      ]
    },
    {
      "cell_type": "code",
      "metadata": {
        "id": "tEmoKMQ3gNU4",
        "outputId": "7aabea25-4d31-4476-83c6-007f5c2325ec"
      },
      "source": [
        "#Case creating function\n",
        "import random \n",
        "\n",
        "def create_case(case_size=24,color_list=['purple','orange','black']):\n",
        "    case = []\n",
        "    for i in range(case_size):\n",
        "        case.append(random.choice(color_list))\n",
        "    return case\n",
        "\n",
        "def count_colors(cases,color_list=['purple','orange','black'] ):\n",
        "    color_count ={}\n",
        "    for case in cases:\n",
        "        for i in color_list:\n",
        "            if not i in color_count.keys():\n",
        "                color_count[i]=case.count(i)\n",
        "            else:\n",
        "                color_count[i]+=case.count(i)\n",
        "\n",
        "    return color_count\n",
        "\n",
        "#Create 3 cases\n",
        "\n",
        "my_cases=[ create_case() for _ in range(3)] \n",
        "#Python comprehension used to shorten it into one line and also _ for variable not used. \n",
        "\n",
        "#print(my_cases)\n",
        "\n",
        "\n",
        "count_colors([create_case()])\n",
        "\n",
        "#check if there are 24 black cases\n",
        "color_count= count_colors(my_cases)\n",
        "black=color_count['black']\n",
        "if  black!= None and black>23:\n",
        "    print(f'We had black balls count {black}')\n",
        "else:\n",
        "    print ('not enough')\n",
        "\n",
        "\n",
        "count=0\n",
        "n=10000000\n",
        "for i in range(n):\n",
        "    my_cases=[ create_case() for _ in range(3)]\n",
        "    color_count= count_colors(my_cases)\n",
        "    black=color_count['black']\n",
        "    \n",
        "    if  black!= None and black>23:\n",
        "        count+=1\n",
        "    \n",
        "print(count/n)"
      ],
      "execution_count": null,
      "outputs": [
        {
          "name": "stdout",
          "output_type": "stream",
          "text": [
            "We had black balls count 32\n",
            "0.5441093\n"
          ]
        }
      ]
    },
    {
      "cell_type": "code",
      "metadata": {
        "id": "yHitn-53gNU5",
        "outputId": "2d54b7fd-5d6c-4e9c-f609-62e3277135db"
      },
      "source": [
        "color_count"
      ],
      "execution_count": null,
      "outputs": [
        {
          "data": {
            "text/plain": [
              "{'purple': 3, 'orange': 9, 'black': 12}"
            ]
          },
          "execution_count": 29,
          "metadata": {},
          "output_type": "execute_result"
        }
      ]
    },
    {
      "cell_type": "markdown",
      "metadata": {
        "id": "JacrUI06ek9X"
      },
      "source": [
        "## Problem 2\n",
        "\n",
        "If you are not familiar with poker, please read the [poker introduction](https://canvas.chapman.edu/courses/36490/pages/introduction-to-poker?module_item_id=1106917) on canvas. Five card draw is a type of poker where you are dealt five cards initially. After reviewing your cards you can throw away any number of cards and have them replaced.  If you have been dealt a 4 card inside straight draw (this means you have 4 consecutive cards and only need one more on either side to get a straight), what is the probability of getting a straight after you throw away your one useless card?  Please solve this using both combinatorics and a python program."
      ]
    },
    {
      "cell_type": "code",
      "metadata": {
        "id": "-DtWGBiagNU6",
        "outputId": "f20cadf1-ed96-43d6-b316-f6881509b4d9"
      },
      "source": [
        "### Assignment 1, Question 2 Solution\n",
        "\n",
        "import itertools\n",
        "import random\n",
        "\n",
        "# initiating the suit and rank lists with the string characters\n",
        "ranks = ['2','3','4','5','6','7','8','9','10','J','Q','K','A']\n",
        "suits = ['H', 'D', 'C', 'S']\n",
        "\n",
        "# creating the list of cards by multiplying lists\n",
        "cards_iter=list(itertools.product(suits,ranks))\n",
        "\n",
        "#removing the four cards that make consecutive cards\n",
        "first_four=cards_iter[:4]\n",
        "cards_iter=cards_iter[4:]\n",
        "\n",
        "#shuffling the cards list\n",
        "random.shuffle(cards_iter)\n",
        "\n",
        "#removing the additional card that is not in either side\n",
        "if cards_iter[0][1]!='A' and cards_iter[0][1]!='6':\n",
        "    cards_iter=cards_iter[1:]\n",
        "elif cards_iter[1][1]!='A' and cards_iter[1][1]!='6':\n",
        "    cards_iter=cards_iter[0,2:]\n",
        "\n",
        "#shuffling cards \n",
        "random.shuffle(cards_iter)\n",
        "\n",
        "\n",
        "#printing\n",
        "print('The first four cards in the straight were: ',first_four,'\\n','\\n The following are the draws which give a straight: \\n')\n",
        "\n",
        "\n",
        "count=0\n",
        "for i in cards_iter:\n",
        "    if i[1]=='A' or i[1]=='6': \n",
        "        count+=1        \n",
        "        print(f'Count {count} : A straight with 5th card as {i} \\n')\n",
        "\n",
        "        \n",
        "print ( f'Since there are total {count} possibilities for the one card to make a straight and the total cards left after discarding one card is {len(cards_iter)} the probability is {count/len(cards_iter)}') \n",
        "    \n"
      ],
      "execution_count": null,
      "outputs": [
        {
          "name": "stdout",
          "output_type": "stream",
          "text": [
            "The first four cards in the straight were:  [('H', '2'), ('H', '3'), ('H', '4'), ('H', '5')] \n",
            " \n",
            " The following are the draws which give a straight: \n",
            "\n",
            "Count 1 : A straight with 5th card as ('D', 'A') \n",
            "\n",
            "Count 2 : A straight with 5th card as ('C', '6') \n",
            "\n",
            "Count 3 : A straight with 5th card as ('S', '6') \n",
            "\n",
            "Count 4 : A straight with 5th card as ('H', 'A') \n",
            "\n",
            "Count 5 : A straight with 5th card as ('D', '6') \n",
            "\n",
            "Count 6 : A straight with 5th card as ('C', 'A') \n",
            "\n",
            "Count 7 : A straight with 5th card as ('S', 'A') \n",
            "\n",
            "Count 8 : A straight with 5th card as ('H', '6') \n",
            "\n",
            "Since there are total 8 possibilities for the one card to make a straight and the total cards left after discarding one card is 47 the probability is 0.1702127659574468\n"
          ]
        }
      ]
    },
    {
      "cell_type": "code",
      "metadata": {
        "id": "yfyMlauNgNU7"
      },
      "source": [
        "# Out of 52 Cards, 4 are the used cards which are consecutive\n",
        "# The one discarded card is also removed\n",
        "# We have 47 Cards\n",
        "\n",
        "# The either side of the 4 Cards can be filled in by the 4 cards from the four suits\n",
        "\n",
        "# 4 choose 1 + 4 choose 1 are the possible cases \n",
        "# Total cases are 47 choose 1 \n",
        "\n",
        "# The probability is 4+4/47 = 8/47 "
      ],
      "execution_count": null,
      "outputs": []
    },
    {
      "cell_type": "code",
      "metadata": {
        "id": "1LedAvU9gNU8"
      },
      "source": [
        ""
      ],
      "execution_count": null,
      "outputs": []
    },
    {
      "cell_type": "code",
      "metadata": {
        "id": "KJWAOyElgNU8"
      },
      "source": [
        ""
      ],
      "execution_count": null,
      "outputs": []
    },
    {
      "cell_type": "code",
      "metadata": {
        "id": "brvEnRTIgNU8"
      },
      "source": [
        ""
      ],
      "execution_count": null,
      "outputs": []
    }
  ]
}