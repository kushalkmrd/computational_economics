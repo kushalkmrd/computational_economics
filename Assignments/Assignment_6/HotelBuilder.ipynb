{
 "cells": [
  {
   "cell_type": "markdown",
   "metadata": {
    "id": "R51TNn6hFqkl"
   },
   "source": [
    "# Hotel Builder GA\n",
    "\n",
    "You are the owner of a hotel company based in Los Angeles. You want to expand your business into San Francisco over the next 40 years. You know that it takes you 2 years to build a hotel and the city <u>does not allow you to build more than one hotel at a time</u>. \n",
    "\n",
    "Your Revenue in any year is given by the function $R(h)$ where $h$ is the number of hotels that are currently built (must be completed):\n",
    "\n",
    "$$ R(h)=   \\left\\{\n",
    "\\begin{array}{ll}\n",
    "      1500 + 100h - 5h^2 & h>0 \\\\\n",
    "      0 & h = 0 \\\\\n",
    "\\end{array} \n",
    "\\right.  $$\n",
    "\n",
    "Each year your have to pay to run and maintain your completed hotels. The cost function $C(h)$ is:\n",
    "\n",
    "$$ C(h) = 15 h$$\n",
    "\n",
    "The cost to build a hotel is not fixed, it changes based on the year $y$ it's build is completed. The One-time Cost that is payed when you build a hotel and is represented by the function:\n",
    "\n",
    "$$B(y) = 1000 \\frac{y + 5}{2y} $$\n",
    "\n",
    "<b>Use a genetic algorithm to determine the optimal building strategy for your company.</b>"
   ]
  },
  {
   "cell_type": "code",
   "execution_count": null,
   "metadata": {},
   "outputs": [],
   "source": []
  },
  {
   "cell_type": "code",
   "execution_count": 5,
   "metadata": {},
   "outputs": [],
   "source": [
    "import random\n",
    "import numpy as np \n",
    "import matplotlib.pyplot as plt\n",
    "\n",
    "\n",
    "def profit_h(h):\n",
    "    revenue=1500+100*h-5*h**2\n",
    "    cost=15*h\n",
    "    return revenue-cost \n",
    "\n",
    "def cost_build(y):\n",
    "    cost_build= 1000*(y+5)/(2*y)\n",
    "    return cost_build \n",
    "\n",
    "def build_cost(solution):\n",
    "    cost=0\n",
    "    for i in range(len(solution)):\n",
    "        cost+= solution[i] * (1000* ((i+1)+5)/(2*(i+1)))\n",
    "        \n",
    "    return cost \n",
    "\n",
    "def build_hotel(build_time,periods):\n",
    "    build_prob=0.9\n",
    "    strategy = []\n",
    "    remaining_build_years=0\n",
    "    for n in range(periods):\n",
    "        if remaining_build_years == 0 and n + build_time <= periods:\n",
    "            if random.random() < build_prob:\n",
    "                remaining_build_years = build_time\n",
    "        new_hotel = 0\n",
    "        if remaining_build_years == 1:\n",
    "            new_hotel = 1\n",
    "        remaining_build_years = max(0, remaining_build_years - 1)\n",
    "        strategy.append(new_hotel)\n",
    "    return strategy \n",
    "\n",
    "def strat_hotel(strategy):\n",
    "    hotel_list=[0]\n",
    "    for i in range(1,len(strategy)):\n",
    "        hotel_list.append(hotel_list[i-1]+strategy[i])\n",
    "    return hotel_list\n",
    "\n",
    "def fitness(strategy):\n",
    "    hotel_list=strat_hotel(strategy)\n",
    "    profit=0\n",
    "    for h in hotel_list:\n",
    "        profit+=(profit_h(h))\n",
    "    build_c=build_cost(strategy)\n",
    "    fitness=profit-build_c\n",
    "    for i in range(1,len(strategy)):\n",
    "        if strategy[i]==1 and strategy[i-1]==1:\n",
    "            fitness=-99999\n",
    "    \n",
    "        \n",
    "    return fitness\n",
    "\n",
    "\n"
   ]
  },
  {
   "cell_type": "code",
   "execution_count": 40,
   "metadata": {},
   "outputs": [
    {
     "data": {
      "text/plain": [
       "0"
      ]
     },
     "execution_count": 40,
     "metadata": {},
     "output_type": "execute_result"
    }
   ],
   "source": [
    "random.choice([0,1])"
   ]
  },
  {
   "cell_type": "code",
   "execution_count": 43,
   "metadata": {},
   "outputs": [],
   "source": [
    "\n",
    "#Generate N solutions \n",
    "\n",
    "#generate population\n",
    "'''def gen_n_population(n,build_time,periods):\n",
    "  solutions=[build_hotel(build_time,periods) for _ in range(n)]\n",
    "  return solutions '''\n",
    "def gen_n_population(n,build_time,periods):\n",
    "  solutions=[ [random.choice([0,1]) for _ in range(periods)] for _ in range(n)]\n",
    "  return solutions \n",
    "\n",
    "#crossover \n",
    "\n",
    "def crossover(p1,p2):\n",
    "  random_ind=random.choice(range(len(p1)))\n",
    "  c1= p1[:random_ind]+p2[random_ind:]\n",
    "  c2= p2[:random_ind]+p1[random_ind:]\n",
    "  return [c1,c2]\n",
    "\n",
    "#return the selected parents \n",
    "def roullette_selection(population, num_parents):\n",
    "  selected= random.sample(population,k=num_parents)\n",
    "\n",
    "  crossed=crossover(selected[0],selected[1])\n",
    "  mutated= [ mutation(x,0.02) for x in crossed]\n",
    "\n",
    "  return mutated\n",
    "\n",
    "\n",
    "def mutation(inp_solution,mu):\n",
    "  mutated = [abs(x-1) if random.random()<mu else x for x in inp_solution ]\n",
    "  return mutated\n",
    "\n",
    "def choose_m_children(population,m):\n",
    "  children= [roullette_selection(population,2)[0] for x in range(m)]\n",
    "\n",
    "  return children\n",
    "\n",
    "\n",
    "def winner(s1,s2):\n",
    "  val_s1= fitness(s1)\n",
    "  val_s2= fitness(s2)\n",
    "  return s1 if val_s1 > val_s2 else s2\n",
    "\n",
    "def tournament_survival(population,N):\n",
    "  new_pop=[]\n",
    "  for i in range(N):\n",
    "    s=random.sample(population,k=2)\n",
    "    new_pop.append(winner(s[0],s[1]))\n",
    "  return new_pop"
   ]
  },
  {
   "cell_type": "code",
   "execution_count": 44,
   "metadata": {},
   "outputs": [
    {
     "name": "stdout",
     "output_type": "stream",
     "text": [
      "Fitness of final generation's first member is:\n",
      "65858.83227883228\n",
      "Yearly Hotel Count list of final generation's first member is:\n",
      "[0, 0, 0, 0, 1, 1, 2, 2, 3, 3, 4, 4, 5, 5, 6, 6, 6, 6, 6, 6, 6, 6, 6, 6, 6, 6, 6, 6, 6, 6, 6, 6, 6, 6, 6, 6, 6, 6, 6, 6]\n",
      "List of number of hotels in final generation is:\n",
      "[6, 6, 6, 6, 6, 6, 6, 6, 6, 6, 6, 6, 6, 6, 6, 6, 6, 6, 6, 6, 6, 6, 6, 6, 6, 6, 6, 6, 6, 6, 6, 6, 6, 6, 6, 6, 6, 6, 6, 6, 6, 6, 6, 6, 6, 6, 6, 6, 6, 6]\n"
     ]
    },
    {
     "data": {
      "image/png": "[encoded data removed]",
      "text/plain": [
       "<Figure size 1440x720 with 1 Axes>"
      ]
     },
     "metadata": {
      "needs_background": "light"
     },
     "output_type": "display_data"
    }
   ],
   "source": [
    "# hotel problem parameters\n",
    "build_time=2\n",
    "periods=40\n",
    "population_size=50\n",
    "children=4\n",
    "generations=10000\n",
    "\n",
    "all_generations=[]\n",
    "fitness_all=[]\n",
    "population=gen_n_population(population_size,build_time,periods)\n",
    "\n",
    "for i in range(generations):\n",
    "  if i ==0: \n",
    "    new_gen=population\n",
    "  all_pop=new_gen+choose_m_children(new_gen,children)\n",
    "  new_gen=tournament_survival(all_pop,population_size)\n",
    "  fitness_all.append([fitness(x) for x in new_gen])\n",
    "  all_generations.append(new_gen)\n",
    "\n",
    "print(\"Fitness of final generation's first member is:\")\n",
    "print(fitness(all_generations[-1][0]))\n",
    "\n",
    "print(\"Yearly Hotel Count list of final generation's first member is:\")\n",
    "print(strat_hotel(all_generations[-1][0]))\n",
    "\n",
    "print(\"List of number of hotels in final generation is:\")\n",
    "print([sum(x) for x in all_generations[-1]])\n",
    "\n",
    "fitness_all_mean = [np.mean(fitness) for fitness in fitness_all]\n",
    "fitness_all_max = [np.max(fitness) for fitness in fitness_all]\n",
    "fitness_all_min = [np.median(fitness) for fitness in fitness_all]\n",
    "\n",
    "plt.figure(figsize=(20,10))\n",
    "plt.grid()\n",
    "plt.plot(list(range(generations)), fitness_all_mean, label = 'Mean Fitness')\n",
    "plt.plot(list(range(generations)), fitness_all_max, label = 'Max Fitness')\n",
    "plt.plot(list(range(generations)), fitness_all_min, label = 'Median Fitness')\n",
    "\n",
    "plt.title('Plot of Fitness vs Generations',fontsize=20)\n",
    "plt.legend()\n",
    "\n",
    "plt.xlabel('Generations', fontsize=15)\n",
    "plt.ylabel('Fitness', fontsize=15)\n",
    "plt.show()\n"
   ]
  },
  {
   "cell_type": "code",
   "execution_count": 11,
   "metadata": {},
   "outputs": [
    {
     "name": "stdout",
     "output_type": "stream",
     "text": [
      "[0, 0, 0, 1, 0, 1, 0, 1, 0, 0, 1, 0, 1, 0, 0, 0, 0, 0, 0, 1, 0, 1, 0, 0, 0, 0, 0, 0, 0, 0, 0, 0, 0, 0, 0, 0, 0, 0, 0, 0]\n"
     ]
    }
   ],
   "source": [
    "print(all_generations[-1][0])\n"
   ]
  },
  {
   "cell_type": "code",
   "execution_count": 30,
   "metadata": {},
   "outputs": [
    {
     "data": {
      "text/plain": [
       "<matplotlib.image.AxesImage at 0x257672c1670>"
      ]
     },
     "execution_count": 30,
     "metadata": {},
     "output_type": "execute_result"
    },
    {
     "data": {
      "image/png": "[encoded data removed]",
      "text/plain": [
       "<Figure size 288x1152 with 1 Axes>"
      ]
     },
     "metadata": {
      "needs_background": "light"
     },
     "output_type": "display_data"
    }
   ],
   "source": [
    "import matplotlib.pyplot as plt\n"
   ]
  },
  {
   "cell_type": "code",
   "execution_count": 32,
   "metadata": {},
   "outputs": [
    {
     "data": {
      "text/plain": [
       "<matplotlib.image.AxesImage at 0x2576739a7c0>"
      ]
     },
     "execution_count": 32,
     "metadata": {},
     "output_type": "execute_result"
    },
    {
     "data": {
      "image/png": "[encoded data removed]",
      "text/plain": [
       "<Figure size 288x1152 with 1 Axes>"
      ]
     },
     "metadata": {
      "needs_background": "light"
     },
     "output_type": "display_data"
    }
   ],
   "source": [
    "progress=[]\n",
    "for i in range(len(all_generations)):\n",
    "    progress.append(all_generations[1][3])\n",
    "\n",
    "plt.matshow(progress,aspect='auto')"
   ]
  },
  {
   "cell_type": "code",
   "execution_count": 35,
   "metadata": {},
   "outputs": [
    {
     "name": "stdout",
     "output_type": "stream",
     "text": [
      "[0, 1, 0, 1, 0, 1, 0, 1, 0, 1, 0, 1, 0, 1, 0, 1, 0, 0, 1, 0, 1, 0, 1, 0, 1, 0, 1, 0, 1, 0, 1, 0, 1, 0, 1, 0, 1, 0, 1, 0]\n"
     ]
    }
   ],
   "source": [
    "print(all_generations[1][2])"
   ]
  },
  {
   "cell_type": "code",
   "execution_count": null,
   "metadata": {},
   "outputs": [],
   "source": []
  }
 ],
 "metadata": {
  "colab": {
   "name": "HotelBuilder.ipynb",
   "provenance": []
  },
  "interpreter": {
   "hash": "b3ba2566441a7c06988d0923437866b63cedc61552a5af99d1f4fb67d367b25f"
  },
  "kernelspec": {
   "display_name": "Python 3 (ipykernel)",
   "language": "python",
   "name": "python3"
  },
  "language_info": {
   "codemirror_mode": {
    "name": "ipython",
    "version": 3
   },
   "file_extension": ".py",
   "mimetype": "text/x-python",
   "name": "python",
   "nbconvert_exporter": "python",
   "pygments_lexer": "ipython3",
   "version": "3.9.7"
  }
 },
 "nbformat": 4,
 "nbformat_minor": 1
}
