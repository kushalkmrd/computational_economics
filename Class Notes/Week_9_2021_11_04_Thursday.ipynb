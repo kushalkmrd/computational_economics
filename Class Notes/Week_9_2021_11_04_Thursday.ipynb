{
  "nbformat": 4,
  "nbformat_minor": 5,
  "metadata": {
    "kernelspec": {
      "display_name": "Python 3 (ipykernel)",
      "language": "python",
      "name": "python3"
    },
    "language_info": {
      "codemirror_mode": {
        "name": "ipython",
        "version": 3
      },
      "file_extension": ".py",
      "mimetype": "text/x-python",
      "name": "python",
      "nbconvert_exporter": "python",
      "pygments_lexer": "ipython3",
      "version": "3.9.7"
    },
    "colab": {
      "name": "Week_9_2021_11_04_Thursday.ipynb",
      "provenance": [],
      "include_colab_link": true
    }
  },
  "cells": [
    {
      "cell_type": "markdown",
      "metadata": {
        "id": "view-in-github",
        "colab_type": "text"
      },
      "source": [
        "<a href=\"https://colab.research.google.com/github/kushalkrd/computational_economics/blob/main/Class%20Notes/Week_9_2021_11_04_Thursday.ipynb\" target=\"_parent\"><img src=\"https://colab.research.google.com/assets/colab-badge.svg\" alt=\"Open In Colab\"/></a>"
      ]
    },
    {
      "cell_type": "markdown",
      "metadata": {
        "id": "ab924cbb"
      },
      "source": [
        "# Class Notes Week 9, Thursday "
      ],
      "id": "ab924cbb"
    },
    {
      "cell_type": "markdown",
      "metadata": {
        "id": "52c6cfbd"
      },
      "source": [
        "### Cournot Duopoly - Continued\n",
        "\n",
        "2 players in the game \n",
        "\n",
        "Each chooses how much to produce **simultaneously**\n",
        "\n",
        "Assume each unit's production cost is 10 \n",
        "\n",
        "$Price = 40 - Q_{total} $ \n",
        "\n",
        "$ \\pi_i (Q_i) = (40 - Q_{tot})Q_i - 10 Q_i$\n",
        "\n",
        "$ Q_1^* =  \\frac {30- Q_2} {2} $\n",
        "\n",
        "$Q_1 = 20, Q_2 = 5 $\n"
      ],
      "id": "52c6cfbd"
    },
    {
      "cell_type": "markdown",
      "metadata": {
        "id": "PGfyLfJT6ovv"
      },
      "source": [
        "Periods\n",
        "- 1: [20,5] : $15*20 - 10*20 = 100$\n",
        "$ Q_1^* =  \\frac {30- Q_2} {2} = 30 - 5$\n",
        "\n",
        "- 2: [12.5,5]\n",
        "\n"
      ],
      "id": "PGfyLfJT6ovv"
    },
    {
      "cell_type": "code",
      "metadata": {
        "id": "c6318470"
      },
      "source": [
        "import random\n",
        "def random_duopoly_solution():\n",
        "    return [random.randint(0, 40) for _ in range(2)]\n",
        "\n",
        "def market_price(total_quantity):\n",
        "    return 40 - total_quantity\n",
        "\n",
        "def profit(price, quantity):\n",
        "    return price * quantity - 10 * quantity\n",
        "\n",
        "def fitness(quantities):\n",
        "    price = market_price(sum(quantities))\n",
        "    return sum([profit(price, q) for q in quantities])\n",
        "\n",
        "def duopoly_mutation(solution, mutation_prob):\n",
        "    new_solution = []\n",
        "    for q in solution:\n",
        "        if (random.random() < mutation_prob):\n",
        "            new_solution.append(max(0, min(40, q + random.randint(-5,5))))\n",
        "        else:\n",
        "            new_solution.append(q)\n",
        "    return new_solution"
      ],
      "id": "c6318470",
      "execution_count": 2,
      "outputs": []
    },
    {
      "cell_type": "code",
      "metadata": {
        "id": "hSrSyjCU-aIb",
        "outputId": "1df764b2-17b0-43de-9289-a1f106aa0dd3",
        "colab": {
          "base_uri": "https://localhost:8080/"
        }
      },
      "source": [
        "quantities=[20,5]\n",
        "[profit(market_price(sum(quantities)),q) for q in quantities]"
      ],
      "id": "hSrSyjCU-aIb",
      "execution_count": 6,
      "outputs": [
        {
          "output_type": "execute_result",
          "data": {
            "text/plain": [
              "[100, 25]"
            ]
          },
          "metadata": {},
          "execution_count": 6
        }
      ]
    },
    {
      "cell_type": "code",
      "metadata": {
        "id": "zCMUZg0T-Ddh",
        "outputId": "1066e74f-2bf7-4f9c-91af-38bfacb080b1",
        "colab": {
          "base_uri": "https://localhost:8080/"
        }
      },
      "source": [
        "quantities=[12.5,5]\n",
        "[profit(market_price(sum(quantities)),q) for q in quantities]\n"
      ],
      "id": "zCMUZg0T-Ddh",
      "execution_count": 12,
      "outputs": [
        {
          "output_type": "execute_result",
          "data": {
            "text/plain": [
              "[156.25, 62.5]"
            ]
          },
          "metadata": {},
          "execution_count": 12
        }
      ]
    },
    {
      "cell_type": "code",
      "metadata": {
        "id": "s6c-zO7M-SLH",
        "outputId": "cecaa3f6-9bbf-47e5-f6f0-c1013c3f0208",
        "colab": {
          "base_uri": "https://localhost:8080/"
        }
      },
      "source": [
        "quantities=[12.5,8.75]\n",
        "[profit(market_price(sum(quantities)),q) for q in quantities]"
      ],
      "id": "s6c-zO7M-SLH",
      "execution_count": 8,
      "outputs": [
        {
          "output_type": "execute_result",
          "data": {
            "text/plain": [
              "[109.375, 76.5625]"
            ]
          },
          "metadata": {},
          "execution_count": 8
        }
      ]
    },
    {
      "cell_type": "code",
      "metadata": {
        "id": "hdU2A293-e6s",
        "outputId": "4010adeb-398b-45c8-e756-b78733c3459b",
        "colab": {
          "base_uri": "https://localhost:8080/"
        }
      },
      "source": [
        "quantities=[(30-8.75)/2,8.75]\n",
        "[profit(market_price(sum(quantities)),q) for q in quantities]"
      ],
      "id": "hdU2A293-e6s",
      "execution_count": 9,
      "outputs": [
        {
          "output_type": "execute_result",
          "data": {
            "text/plain": [
              "[112.890625, 92.96875]"
            ]
          },
          "metadata": {},
          "execution_count": 9
        }
      ]
    },
    {
      "cell_type": "code",
      "metadata": {
        "id": "xFht4Nnx-sr7",
        "outputId": "465909e1-79d7-400e-83c7-996a3cd3c2a2",
        "colab": {
          "base_uri": "https://localhost:8080/"
        }
      },
      "source": [
        "#Genetic Algorithm to Solve Cournot Duopoly\n",
        "import random\n",
        "\n",
        "def generate_population(num_items,num_pop,num):\n",
        "\n",
        "  population=[[random.randint(num[0],num[1]+1) for _ in range(num_items)] for _ in range(num_pop)]\n",
        "  \n",
        "  return population\n",
        "\n",
        "def create_children(populations):\n",
        "  for i in range(populations):\n",
        "    \n",
        "\n",
        "\n",
        "print(generate_population(40,2,[0,40]))"
      ],
      "id": "xFht4Nnx-sr7",
      "execution_count": 6,
      "outputs": [
        {
          "output_type": "stream",
          "name": "stdout",
          "text": [
            "[[21, 8, 35, 17, 38, 31, 6, 23, 38, 16, 26, 26, 12, 9, 29, 10, 13, 28, 32, 4, 34, 23, 36, 15, 31, 10, 15, 2, 29, 22, 10, 21, 24, 23, 5, 1, 19, 28, 28, 40], [30, 26, 17, 41, 4, 3, 0, 16, 29, 33, 21, 37, 4, 32, 14, 41, 9, 24, 5, 14, 37, 14, 37, 36, 26, 6, 10, 21, 40, 17, 35, 0, 23, 26, 24, 4, 19, 27, 12, 20]]\n"
          ]
        }
      ]
    },
    {
      "cell_type": "code",
      "metadata": {
        "id": "sKYjK8a5GyW3",
        "outputId": "bb1c3619-f91d-402e-a866-2152e939c363",
        "colab": {
          "base_uri": "https://localhost:8080/"
        }
      },
      "source": [
        "import random\n"
      ],
      "id": "sKYjK8a5GyW3",
      "execution_count": 2,
      "outputs": [
        {
          "output_type": "execute_result",
          "data": {
            "text/plain": [
              "[[24, 0, 5, 14],\n",
              " [31, 24, 2, 20],\n",
              " [25, 9, 20, 4],\n",
              " [37, 37, 40, 21],\n",
              " [39, 11, 38, 41]]"
            ]
          },
          "metadata": {},
          "execution_count": 2
        }
      ]
    },
    {
      "cell_type": "code",
      "metadata": {
        "id": "lP3p7Jj4GwCm",
        "outputId": "52f272ec-1dc7-4b52-92bf-8692344192f1",
        "colab": {
          "base_uri": "https://localhost:8080/",
          "height": 164
        }
      },
      "source": [
        "[4 for x in range(4)]"
      ],
      "id": "lP3p7Jj4GwCm",
      "execution_count": 36,
      "outputs": [
        {
          "output_type": "error",
          "ename": "TypeError",
          "evalue": "ignored",
          "traceback": [
            "\u001b[0;31m---------------------------------------------------------------------------\u001b[0m",
            "\u001b[0;31mTypeError\u001b[0m                                 Traceback (most recent call last)",
            "\u001b[0;32m<ipython-input-36-1996f052dceb>\u001b[0m in \u001b[0;36m<module>\u001b[0;34m()\u001b[0m\n\u001b[0;32m----> 1\u001b[0;31m \u001b[0;34m[\u001b[0m\u001b[0;36m4\u001b[0m \u001b[0;32mfor\u001b[0m \u001b[0mx\u001b[0m \u001b[0;32min\u001b[0m \u001b[0mrange\u001b[0m\u001b[0;34m(\u001b[0m\u001b[0;36m4\u001b[0m\u001b[0;34m)\u001b[0m\u001b[0;34m]\u001b[0m\u001b[0;34m\u001b[0m\u001b[0;34m\u001b[0m\u001b[0m\n\u001b[0m",
            "\u001b[0;31mTypeError\u001b[0m: 'tuple' object is not callable"
          ]
        }
      ]
    },
    {
      "cell_type": "code",
      "metadata": {
        "id": "2CC-xKwG_Bfn"
      },
      "source": [
        ""
      ],
      "id": "2CC-xKwG_Bfn",
      "execution_count": null,
      "outputs": []
    }
  ]
}