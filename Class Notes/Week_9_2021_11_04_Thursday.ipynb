{
  "nbformat": 4,
  "nbformat_minor": 5,
  "metadata": {
    "kernelspec": {
      "display_name": "Python 3 (ipykernel)",
      "language": "python",
      "name": "python3"
    },
    "language_info": {
      "codemirror_mode": {
        "name": "ipython",
        "version": 3
      },
      "file_extension": ".py",
      "mimetype": "text/x-python",
      "name": "python",
      "nbconvert_exporter": "python",
      "pygments_lexer": "ipython3",
      "version": "3.9.7"
    },
    "colab": {
      "name": "Week_9_2021_11_04_Thursday.ipynb",
      "provenance": [],
      "include_colab_link": true
    }
  },
  "cells": [
    {
      "cell_type": "markdown",
      "metadata": {
        "id": "view-in-github",
        "colab_type": "text"
      },
      "source": [
        "<a href=\"https://colab.research.google.com/github/kushalkrd/computational_economics/blob/main/Class%20Notes/Week_9_2021_11_04_Thursday.ipynb\" target=\"_parent\"><img src=\"https://colab.research.google.com/assets/colab-badge.svg\" alt=\"Open In Colab\"/></a>"
      ]
    },
    {
      "cell_type": "markdown",
      "metadata": {
        "id": "ab924cbb"
      },
      "source": [
        "# Class Notes Week 9, Thursday "
      ],
      "id": "ab924cbb"
    },
    {
      "cell_type": "markdown",
      "metadata": {
        "id": "f0d3cd6f"
      },
      "source": [
        "### Using only Binary Values\n",
        "\n",
        "Solution is given by values in the set $[0,1 ]$ \n",
        "\n",
        "10 digit binary is given by $[0,1,0,0,0,1,1,0,1,1 ]$\n",
        "\n",
        "Divide binary representation by $2^n - 1$\n",
        "\n",
        "\n",
        "\n",
        "Lookup on greycoding to reduce the mutations required to change from costly transitions, e.g. 7 to 8 "
      ],
      "id": "f0d3cd6f"
    },
    {
      "cell_type": "markdown",
      "metadata": {
        "id": "d16c28bf"
      },
      "source": [
        "### Multi-population Genetic Algorithm \n",
        "\n"
      ],
      "id": "d16c28bf"
    },
    {
      "cell_type": "markdown",
      "metadata": {
        "id": "52c6cfbd"
      },
      "source": [
        "### Cournot Duopoly \n",
        "\n",
        "2 players in the game \n",
        "\n",
        "Each chooses how much to produce **simultaneously**\n",
        "\n",
        "Assume each unit's production cost is 10 \n",
        "\n",
        "$Price = 40 - Q_{total} $ \n",
        "\n",
        "$ \\pi_i (Q_i) = (40 - Q_{tot})Q_i - 10 Q_i$\n",
        "\n"
      ],
      "id": "52c6cfbd"
    },
    {
      "cell_type": "code",
      "metadata": {
        "id": "c6318470"
      },
      "source": [
        ""
      ],
      "id": "c6318470",
      "execution_count": null,
      "outputs": []
    }
  ]
}